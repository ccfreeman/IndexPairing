{
 "cells": [
  {
   "cell_type": "code",
   "execution_count": 1,
   "id": "521ee521",
   "metadata": {},
   "outputs": [],
   "source": [
    "import numpy as np\n",
    "import fpair\n",
    "import bpair\n",
    "from diff import diff"
   ]
  },
  {
   "cell_type": "code",
   "execution_count": 2,
   "id": "eacd8620",
   "metadata": {},
   "outputs": [
    {
     "data": {
      "text/plain": [
       "array([50,  8], dtype=uint64)"
      ]
     },
     "execution_count": 2,
     "metadata": {},
     "output_type": "execute_result"
    }
   ],
   "source": [
    "n = 4\n",
    "low, high = 1, 10\n",
    "arr = np.random.randint(low=low, high=high, size=n, dtype=np.uint32).reshape((n//2, 2))\n",
    "\n",
    "# arr = np.array([[1,15], [3,7]], dtype=np.uint32)\n",
    "\n",
    "z = fpair.pair(arr)\n",
    "z"
   ]
  },
  {
   "cell_type": "code",
   "execution_count": 3,
   "id": "789dc210",
   "metadata": {},
   "outputs": [],
   "source": [
    "n = 200000\n",
    "low, high = 1, 150\n",
    "arr_a = np.random.randint(low=low, high=high, size=n, dtype=np.uint32).reshape((n//2, 2))\n",
    "arr_b = np.random.randint(low=low, high=high, size=n, dtype=np.uint32).reshape((n//2, 2))"
   ]
  },
  {
   "cell_type": "code",
   "execution_count": 8,
   "id": "ac04e6b9",
   "metadata": {},
   "outputs": [
    {
     "data": {
      "text/plain": [
       "array([[  3,  33],\n",
       "       [ 70,  70],\n",
       "       [ 79,  79],\n",
       "       [132, 132]], dtype=uint32)"
      ]
     },
     "execution_count": 8,
     "metadata": {},
     "output_type": "execute_result"
    }
   ],
   "source": [
    "diff(arr_a, arr_b, bpair, diff_pos='left')"
   ]
  },
  {
   "cell_type": "code",
   "execution_count": 9,
   "id": "7aec4af4",
   "metadata": {},
   "outputs": [
    {
     "data": {
      "text/plain": [
       "array([[  3,  33],\n",
       "       [ 70,  70],\n",
       "       [ 79,  79],\n",
       "       [132, 132]], dtype=uint32)"
      ]
     },
     "execution_count": 9,
     "metadata": {},
     "output_type": "execute_result"
    }
   ],
   "source": [
    "diff(arr_a, arr_b, fpair, diff_pos='left')"
   ]
  },
  {
   "cell_type": "code",
   "execution_count": 7,
   "id": "cc77575a",
   "metadata": {},
   "outputs": [
    {
     "name": "stdout",
     "output_type": "stream",
     "text": [
      "3.53 s ± 49.9 ms per loop (mean ± std. dev. of 7 runs, 1 loop each)\n"
     ]
    }
   ],
   "source": [
    "%timeit diff(arr_a, arr_b, fpair, diff_pos='right')"
   ]
  },
  {
   "cell_type": "code",
   "execution_count": 6,
   "id": "bb4fe805",
   "metadata": {},
   "outputs": [
    {
     "name": "stdout",
     "output_type": "stream",
     "text": [
      "800 ms ± 9.87 ms per loop (mean ± std. dev. of 7 runs, 1 loop each)\n"
     ]
    }
   ],
   "source": [
    "%timeit diff(arr_a, arr_b, bpair, diff_pos='right')"
   ]
  }
 ],
 "metadata": {
  "kernelspec": {
   "display_name": "Python 3",
   "language": "python",
   "name": "python3"
  },
  "language_info": {
   "codemirror_mode": {
    "name": "ipython",
    "version": 3
   },
   "file_extension": ".py",
   "mimetype": "text/x-python",
   "name": "python",
   "nbconvert_exporter": "python",
   "pygments_lexer": "ipython3",
   "version": "3.8.3"
  }
 },
 "nbformat": 4,
 "nbformat_minor": 5
}
